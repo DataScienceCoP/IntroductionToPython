{
 "cells": [
  {
   "cell_type": "markdown",
   "metadata": {},
   "source": [
    "![Data Science Black@300x.png](https://i.imgur.com/KIHm5UF.png)"
   ]
  },
  {
   "cell_type": "markdown",
   "metadata": {},
   "source": [
    "# Modulos\n",
    "\n",
    "Un módulo es un fichero, con extensión *.py y, por tanto, accesible al intérprete de Python y ejecutable por el núcleo de Python. Puede contener:\n",
    "\n",
    "- Variables globales, funciones, clases (patrones de objetos) y sentencias ejecutables.\n",
    "\n",
    "Un módulo, a su vez, puede importar otros módulos.\n",
    "\n",
    "![imagen](https://www2.eii.uva.es/fund_inf/python/_images/modulo.jpg)"
   ]
  },
  {
   "cell_type": "markdown",
   "metadata": {},
   "source": [
    "Desde el primer momento, hemos estado utilizando una serie de funciones de Python, tales como las de la biblioteca (library) matemática math. Estas funciones matemáticas y otras muchas están distribuidas en módulos que se consideran estándar. Para utilizar estas funciones definidas en módulos se ha seguido el procedimiento que consiste en importar el módulo. De esta forma, estas funciones u otros objetos definidos en el módulo pasan a partir de ese momento a estar disponibles para su uso en nuestro programa o guion. Estos objetos pueden ser desde valores constantes como math.pi a funciones como math.cos()."
   ]
  },
  {
   "cell_type": "code",
   "execution_count": 1,
   "metadata": {},
   "outputs": [
    {
     "name": "stdout",
     "output_type": "stream",
     "text": [
      "cos(Pi) = -1.0\n"
     ]
    }
   ],
   "source": [
    "import math\n",
    "\n",
    "print('cos(Pi) = {}'.format(math.cos(math.pi)))"
   ]
  },
  {
   "cell_type": "markdown",
   "metadata": {},
   "source": [
    "# Importación de un módulo\n",
    "\n",
    "Las formas recomendadas de importar un módulo son las siguientes:"
   ]
  },
  {
   "cell_type": "code",
   "execution_count": null,
   "metadata": {},
   "outputs": [],
   "source": [
    "import nombre_modulo1 "
   ]
  },
  {
   "cell_type": "markdown",
   "metadata": {},
   "source": [
    "En esta segunda variante se especifica un alias, nom en el ejemplo, lo que permitiría utilizar nom. como alias del nombre del módulo."
   ]
  },
  {
   "cell_type": "code",
   "execution_count": null,
   "metadata": {},
   "outputs": [],
   "source": [
    "import nombre_modulo2 as nom"
   ]
  },
  {
   "cell_type": "markdown",
   "metadata": {},
   "source": [
    "En la siguiente figura se muestra un ejemplo artificial para ver cómo el correcto uso de los espacios de nombres permite no contaminarlos.\n",
    "\n",
    "Existen dos módulos, Modulo_A y Modulo_B, que contienen una función con el mismo identificador, ident(). La función ident() podría hacer exactamente lo mismo, tareas similares pero con alguna diferencia o, directamente, no tener nada que ver la una con la otra respecto a su cometido.\n",
    "\n",
    "![module2](https://www2.eii.uva.es/fund_inf/python/_images/importar.jpg)"
   ]
  },
  {
   "cell_type": "code",
   "execution_count": null,
   "metadata": {},
   "outputs": [],
   "source": [
    "import Modulo_A\n",
    "import Modulo_B\n",
    "\n",
    "print('Módulo A llama a módulo B')\n",
    "Modulo_A.ident()\n",
    "\n",
    "print('Se llama a módulo B a través de A')\n",
    "Modulo_A.B.ident()\n",
    "\n",
    "print('Se llama a módulo B directamente')\n",
    "Modulo_B.ident()"
   ]
  },
  {
   "cell_type": "code",
   "execution_count": null,
   "metadata": {},
   "outputs": [],
   "source": [
    "from Modulo_A import *\n",
    "from Modulo_B import *\n",
    "\n",
    "ident()"
   ]
  },
  {
   "cell_type": "markdown",
   "metadata": {},
   "source": [
    "# Taller\n",
    "\n",
    "Crear funciones en Modulos y importarlas en el programa principal que resuelva suma de 2 listas:"
   ]
  },
  {
   "cell_type": "code",
   "execution_count": 2,
   "metadata": {},
   "outputs": [
    {
     "ename": "ModuleNotFoundError",
     "evalue": "No module named 'Module'",
     "output_type": "error",
     "traceback": [
      "\u001b[1;31m---------------------------------------------------------------------------\u001b[0m",
      "\u001b[1;31mModuleNotFoundError\u001b[0m                       Traceback (most recent call last)",
      "Cell \u001b[1;32mIn [2], line 1\u001b[0m\n\u001b[1;32m----> 1\u001b[0m \u001b[38;5;28;01mfrom\u001b[39;00m \u001b[38;5;21;01mModule\u001b[39;00m \u001b[38;5;28;01mimport\u001b[39;00m sumarlistar\n\u001b[0;32m      3\u001b[0m A \u001b[38;5;241m=\u001b[39m [\u001b[38;5;241m1\u001b[39m,\u001b[38;5;241m2\u001b[39m,\u001b[38;5;241m3\u001b[39m]\n\u001b[0;32m      4\u001b[0m B \u001b[38;5;241m=\u001b[39m [\u001b[38;5;241m4\u001b[39m,\u001b[38;5;241m5\u001b[39m,\u001b[38;5;241m6\u001b[39m]\n",
      "\u001b[1;31mModuleNotFoundError\u001b[0m: No module named 'Module'"
     ]
    }
   ],
   "source": [
    "from Module import sumarlistar\n",
    "\n",
    "A = [1,2,3]\n",
    "B = [4,5,6]\n",
    "\n",
    "sumarlistas(A, B)\n"
   ]
  }
 ],
 "metadata": {
  "kernelspec": {
   "display_name": "Python 3.10.7 64-bit",
   "language": "python",
   "name": "python3"
  },
  "language_info": {
   "codemirror_mode": {
    "name": "ipython",
    "version": 3
   },
   "file_extension": ".py",
   "mimetype": "text/x-python",
   "name": "python",
   "nbconvert_exporter": "python",
   "pygments_lexer": "ipython3",
   "version": "3.10.7"
  },
  "orig_nbformat": 4,
  "vscode": {
   "interpreter": {
    "hash": "f0ee762d84ddad7086513e3826a35260320b545ff56322a682f2835eb942653a"
   }
  }
 },
 "nbformat": 4,
 "nbformat_minor": 2
}
