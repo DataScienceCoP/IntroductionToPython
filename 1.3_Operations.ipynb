{
 "cells": [
  {
   "cell_type": "markdown",
   "metadata": {
    "id": "Y0tgrjhzHPUr"
   },
   "source": [
    "![Data Science Black@300x.png](https://i.imgur.com/KIHm5UF.png)\n",
    "\n",
    "## Almacenando simples variables\n",
    "\n",
    "En este segmento tambien daremos una breve utilización de variables que explicaremos en las próximas clases mas a detalle.\n",
    "\n",
    "\n",
    "Una variable es una simple manera de almacenar un tipo de dato en Python.\n",
    "\n",
    "Las variables, son nombres que puedes asignar a tu código para utilizarlo mas adelante:"
   ]
  },
  {
   "cell_type": "code",
   "execution_count": null,
   "metadata": {
    "id": "tvjeQ1BgHgOT"
   },
   "outputs": [],
   "source": [
    "a = 3"
   ]
  },
  {
   "cell_type": "code",
   "execution_count": null,
   "metadata": {
    "colab": {
     "base_uri": "https://localhost:8080/"
    },
    "id": "LcQSzJN5H-VM",
    "outputId": "1f8ccf36-3c09-482a-d465-f9c24ac37e1c"
   },
   "outputs": [
    {
     "data": {
      "text/plain": [
       "3"
      ]
     },
     "metadata": {},
     "output_type": "display_data"
    }
   ],
   "source": [
    "a"
   ]
  },
  {
   "cell_type": "markdown",
   "metadata": {
    "id": "mw9pIO53Hlts"
   },
   "source": [
    "# Ejecutando operaciones con tipos de datos\n",
    "\n",
    "Los tipos de datos en Python permiten ejecutar operaciones entre ellos.\n",
    "\n",
    "Puedes realizar por ejemplo con los enteros operaciones básicas que podrias ejecutar en una calculadora."
   ]
  },
  {
   "cell_type": "code",
   "execution_count": null,
   "metadata": {
    "colab": {
     "base_uri": "https://localhost:8080/"
    },
    "id": "TQ4NMSPVImEO",
    "outputId": "3aca7005-9ca1-43e5-e708-190e1dbb59a9"
   },
   "outputs": [
    {
     "data": {
      "text/plain": [
       "11"
      ]
     },
     "metadata": {},
     "output_type": "display_data"
    }
   ],
   "source": [
    "1+10"
   ]
  },
  {
   "cell_type": "code",
   "execution_count": null,
   "metadata": {
    "colab": {
     "base_uri": "https://localhost:8080/"
    },
    "id": "AtTNks5EIm91",
    "outputId": "3116c2e8-654e-430c-f647-610802da8f74"
   },
   "outputs": [
    {
     "data": {
      "text/plain": [
       "1"
      ]
     },
     "metadata": {},
     "output_type": "display_data"
    }
   ],
   "source": [
    "2-1"
   ]
  },
  {
   "cell_type": "code",
   "execution_count": null,
   "metadata": {
    "colab": {
     "base_uri": "https://localhost:8080/"
    },
    "id": "sOX4s5zXInwp",
    "outputId": "17582a36-c263-4528-e3f8-cd532cff2908"
   },
   "outputs": [
    {
     "data": {
      "text/plain": [
       "4"
      ]
     },
     "metadata": {},
     "output_type": "display_data"
    }
   ],
   "source": [
    "2*2"
   ]
  },
  {
   "cell_type": "code",
   "execution_count": null,
   "metadata": {
    "colab": {
     "base_uri": "https://localhost:8080/"
    },
    "id": "06vrOkYqIpr9",
    "outputId": "ea2dd250-4657-4623-cf15-263955664355"
   },
   "outputs": [
    {
     "data": {
      "text/plain": [
       "2.0"
      ]
     },
     "metadata": {},
     "output_type": "display_data"
    }
   ],
   "source": [
    "4/2"
   ]
  },
  {
   "cell_type": "markdown",
   "metadata": {
    "id": "5Yte27QtIs7l"
   },
   "source": [
    "Tambien en Python nos puestra si nuestra operacion esta incorrecta, por ejemplo nos muestra un error si nuestra division es entre 0:"
   ]
  },
  {
   "cell_type": "code",
   "execution_count": null,
   "metadata": {
    "colab": {
     "base_uri": "https://localhost:8080/",
     "height": 163
    },
    "id": "iky0wlziIq3l",
    "outputId": "c0903d00-d485-4176-ac5d-41efdd35c55d"
   },
   "outputs": [
    {
     "ename": "ZeroDivisionError",
     "evalue": "division by zero",
     "output_type": "error",
     "traceback": [
      "\u001b[0;31m---------------------------------------------------------------------------\u001b[0m\n",
      "\u001b[0;31mZeroDivisionError\u001b[0m                         Traceback (most recent call last)\n",
      "\u001b[0;32m/tmp/ipykernel_87/2354412189.py\u001b[0m in \u001b[0;36m<module>\u001b[0;34m\u001b[0m\n",
      "\u001b[0;32m----> 1\u001b[0;31m \u001b[0;36m1\u001b[0m\u001b[0;34m/\u001b[0m\u001b[0;36m0\u001b[0m\u001b[0;34m\u001b[0m\u001b[0;34m\u001b[0m\u001b[0m\n",
      "\u001b[0m\n",
      "\u001b[0;31mZeroDivisionError\u001b[0m: division by zero"
     ]
    }
   ],
   "source": [
    "1/0"
   ]
  },
  {
   "cell_type": "markdown",
   "metadata": {
    "id": "f2Us6be_I5b1"
   },
   "source": [
    "Adicionalmente operaciones similares pueden realizarse entre otros tipos de datos, como cadena.\n",
    "\n",
    "La operacion que realizamos comunmente con las cadenas es la concatenacion, que realizamos utilizando el símbolo de +"
   ]
  },
  {
   "cell_type": "code",
   "execution_count": null,
   "metadata": {
    "colab": {
     "base_uri": "https://localhost:8080/",
     "height": 35
    },
    "id": "lMUtlp1qIyLV",
    "outputId": "40d04427-2248-4d91-db56-a8ebd9836761"
   },
   "outputs": [],
   "source": [
    "'Esta es una cadena' +  ' y le agrego otra cadena'"
   ]
  },
  {
   "cell_type": "markdown",
   "metadata": {
    "id": "_4E9tNriJPgm"
   },
   "source": [
    "Python es bien versatil y nos permite utilizar multiples tipos de datos para acorar los procesos de ejecucion, por ejemplo podemos multiplicar una cadena por un numero y tenerla varias veces:"
   ]
  },
  {
   "cell_type": "code",
   "execution_count": null,
   "metadata": {
    "colab": {
     "base_uri": "https://localhost:8080/",
     "height": 35
    },
    "id": "VpyurL4oJYOe",
    "outputId": "386ad691-654f-44c5-80a8-0f63edaaacfb"
   },
   "outputs": [],
   "source": [
    "'Batman! '* 5"
   ]
  },
  {
   "cell_type": "markdown",
   "metadata": {
    "id": "wD33Ic5dJljY"
   },
   "source": [
    "Sin embargo si intentamos sumar un tipo de dato cadena con un numero nos dará un error ya que tenemos que asegurarnos que al concatenar el tipo de dato se el mismo:"
   ]
  },
  {
   "cell_type": "code",
   "execution_count": null,
   "metadata": {
    "colab": {
     "base_uri": "https://localhost:8080/",
     "height": 163
    },
    "id": "yV05qZhiJgz_",
    "outputId": "a73d235d-9caf-4adc-9bf0-92351a3b5469"
   },
   "outputs": [],
   "source": [
    "'Batman!' + 5"
   ]
  },
  {
   "cell_type": "code",
   "execution_count": null,
   "metadata": {
    "colab": {
     "base_uri": "https://localhost:8080/",
     "height": 35
    },
    "id": "Kmy46r9_Jxow",
    "outputId": "0fce586b-ead5-4a64-990a-f4d350e89465"
   },
   "outputs": [],
   "source": [
    "'Batman!' + '5'"
   ]
  },
  {
   "cell_type": "markdown",
   "metadata": {
    "id": "LcouuaFZUjfu"
   },
   "source": [
    "# Ejecucion de programas con Entradas\n",
    "\n",
    "En este entorno de progracion, puedes interactuar con lo que escribes.\n",
    "\n",
    "Darle datos a tu creacion y ver los resultados."
   ]
  },
  {
   "cell_type": "code",
   "execution_count": null,
   "metadata": {
    "colab": {
     "base_uri": "https://localhost:8080/"
    },
    "id": "yfY6M_HGUi83",
    "outputId": "429f7223-0949-4680-f101-a1661f7e090b"
   },
   "outputs": [],
   "source": [
    "# Mi primer programa dice hola y pregunta por tu nombre\n",
    "\n",
    "print('Hola Mundo!')\n",
    "print('¿Cual es tu nombre?')\n",
    "mi_nombre = input()  \n",
    "print('Es un placer conocerte, ' + mi_nombre)\n",
    "print('Tu nombre tiene ',len(mi_nombre),' letras')\n",
    "\n",
    "print('¿Cual es tu edad?')\n",
    "mi_edad = input()\n",
    "print('Tendras ' + str(int(mi_edad)+1) + ' el proximo año')\n",
    "\n"
   ]
  },
  {
   "cell_type": "markdown",
   "metadata": {
    "id": "WDxdssAxXByY"
   },
   "source": [
    "# Mostrando los tipos de datos\n",
    "\n",
    "Como ya mencionamos Python reconoce distintos tipos de datos. Por ejemplo, números enteros, números con decimales, booleano (es cuando el resultado es cero o uno), textos, fechas, listas, diccionarios, y archivos.\n",
    "\n",
    "Por ejemplo:\n",
    "*   Enteros o *integers*: -1, 0, 1\n",
    "*   Flotantes o *floats*: -1.3, 0.005, 1.333333\n",
    "*   Booleanos o *booleans*: 1, 0, True, False\n",
    "*   Listas o *lists*: [1, \"dos\", 3, 4.1]\n",
    "*   Textos o *strings*: \"2\", 'hola', \"Él dijo que 'compraría' la cena.\"\n",
    "\n",
    "Los *strings* pueden ser delimitados por:<br>\n",
    "*   ' ' apóstrofe sencilla\n",
    "*   \" \" comilla sencilla<br>\n",
    "*   ''' '''triple apóstrofe<br>\n",
    "*   \"\"\" \"\"\" triple comilla\n",
    "\n",
    "Además, los *strings* son inmutables; es decir, que no cambian por si solos, pero los operadores (in, +, y **)* y funciones (*len*, *min*, y *max*) pueden dar un nuevo *string* a partir del original."
   ]
  },
  {
   "cell_type": "code",
   "execution_count": null,
   "metadata": {
    "colab": {
     "base_uri": "https://localhost:8080/"
    },
    "id": "SII-PEKr8tCZ",
    "outputId": "63f2ec83-4f6e-42b2-b6ef-50c711192ffb"
   },
   "outputs": [],
   "source": [
    "# Ejemplo un texto con tab \\t (este símbolo significa tabulación o espaciado y es utilizado en diversos lenguajes para \n",
    "# indicarle a la computadora cuando un texto lleva un espaciado similar al apretar la tecla Tab)\n",
    "# Definamos una variable x con algún texto\n",
    "x = \"Soy fan de las películas de \\t  \\tDC\"\n",
    "print(x) # Utilizamos la función print para imprimir o mostrar un resultado. En este caso, mostramos el contenido de la variable x\n",
    "\n",
    "# ¡Muy bien! Ahora usemos la funcion split para separar el contenido de la variable x \n",
    "y = x.split()\n",
    "print(y)"
   ]
  },
  {
   "cell_type": "code",
   "execution_count": null,
   "metadata": {
    "colab": {
     "base_uri": "https://localhost:8080/"
    },
    "id": "FLp8mtR2e01e",
    "outputId": "e3b20b9f-71e0-489c-bf16-690f2da8d056"
   },
   "outputs": [],
   "source": [
    "# ¡Muy bien! Ahora usemos la funcion split con un parámetro para que separe la oración que tenga \\t\n",
    "y = x.split(\"\\t\")\n",
    "print(y)"
   ]
  },
  {
   "cell_type": "markdown",
   "metadata": {
    "id": "TR7r-HaUfLSD"
   },
   "source": [
    "Ejercicio 1\n",
    "1. Define una variable z con el siguiente texto \"Sol, playa, nubes, mar y arena\"\n",
    "2. Separa ese texto por commas \",\"\n",
    "¿Cuál es el resultado?"
   ]
  },
  {
   "cell_type": "code",
   "execution_count": null,
   "metadata": {
    "colab": {
     "base_uri": "https://localhost:8080/"
    },
    "id": "iKGvgItmfIci",
    "outputId": "470d156b-b552-4934-9080-dc0926a6a915"
   },
   "outputs": [],
   "source": [
    "# Ejercicio 1\n",
    "# Define una variable z\n",
    "z = \"Pablofueala fiesta\"\n",
    "# Separa ese texto por commas \",\"\n",
    "z.split()\n",
    "# ¿Cuál es el resultado? Recuerda colocar la variable que deseas imprimir o mostrar\n",
    "#print(w)"
   ]
  },
  {
   "cell_type": "code",
   "execution_count": null,
   "metadata": {
    "colab": {
     "base_uri": "https://localhost:8080/",
     "height": 35
    },
    "id": "DQ84Kb8nGKqp",
    "outputId": "b102d506-e9f1-4484-e483-51ba77b804c5"
   },
   "outputs": [],
   "source": [
    "# Ahora reemplacemos la última frase de la variable x\n",
    "x.replace(\"\\t  \\tDC\", \"Marvel\")\n",
    "# Usamos la funcion replace para reemplazar el primer parámetro con el segundo parámetro de la función"
   ]
  },
  {
   "cell_type": "markdown",
   "metadata": {
    "id": "69hvYKGSgbbh"
   },
   "source": [
    "Ejercicio 2\n",
    "1. Define una variable cualquiera\n",
    "2. Agregale un texto cualquiera\n",
    "3. Reemplázalo con la función .replace()\n",
    "4. Imprime o muestra el resultado"
   ]
  },
  {
   "cell_type": "code",
   "execution_count": null,
   "metadata": {
    "colab": {
     "base_uri": "https://localhost:8080/",
     "height": 35
    },
    "id": "7aI0cL4RkWv_",
    "outputId": "fd0c465b-0d5b-4baa-9f91-c3f269e003e6"
   },
   "outputs": [],
   "source": [
    "# Ejercicio 2\n",
    "# Define una variable cualquiera\n",
    "z = \"Pablo fue a la fiesta\"\n",
    "\n",
    "# Agregale un texto cualquiera\n",
    "w = 'Juan'\n",
    "\n",
    "# Reemplázalo con la función .replace()\n",
    "z.replace('Pablo', 'Toretto')\n",
    "\n",
    "# Imprime o muestra el resultado"
   ]
  },
  {
   "cell_type": "code",
   "execution_count": null,
   "metadata": {
    "colab": {
     "base_uri": "https://localhost:8080/"
    },
    "id": "7YYO9ufKN20P",
    "outputId": "22729b36-e4ff-4290-869e-ce90fb5c9f52"
   },
   "outputs": [],
   "source": [
    "# ¿Qué pasa si sumamos un texto? Obtendremos un error porque necesitamos colocar las comillas.\n",
    "texto1 = 'agua'\n",
    "texto2 = \"cate\"\n",
    "texto3 = \"!\"\n",
    "print(texto1 + texto2+ texto3)"
   ]
  },
  {
   "cell_type": "code",
   "execution_count": null,
   "metadata": {
    "colab": {
     "base_uri": "https://localhost:8080/"
    },
    "id": "keey0pjROJMZ",
    "outputId": "0416d4d4-a420-44e8-b0e9-6b71b9029b39"
   },
   "outputs": [],
   "source": [
    "# Notemos que si no colocamos las comillas o apóstrofes, entonces Python interpreta que es un objeto variable no definida.\n",
    "# Sin embargo, al sumar textos, se pondran uno al lado del otro. Ejemplo: agua + cate = aguacate\n",
    "texto1 = \"agua\"\n",
    "texto2 = \"cate\"\n",
    "\n",
    "print(\"El resultado de estas variables de tipo texto es: \", texto1 + texto2)"
   ]
  },
  {
   "cell_type": "code",
   "execution_count": null,
   "metadata": {
    "colab": {
     "base_uri": "https://localhost:8080/",
     "height": 183
    },
    "id": "Ny6bL1v7O1rF",
    "outputId": "5644fba9-85b9-4025-e3c4-bff0b83a0dfc"
   },
   "outputs": [],
   "source": [
    "# Pero multiplicar dos variables de tipo texto resultará en error porque esta es una operacion numerica.\n",
    "print(texto1 * texto2)"
   ]
  },
  {
   "cell_type": "code",
   "execution_count": null,
   "metadata": {
    "colab": {
     "base_uri": "https://localhost:8080/"
    },
    "id": "ehEr5PCEO7vD",
    "outputId": "c046852a-5a52-4f02-b83e-dac7638e6ad1"
   },
   "outputs": [],
   "source": [
    "# Sin embargo, sí podemos multiplicar un texto por un número, lo cual repetira el texto tantas veces como tengamos el numero.\n",
    "print(texto1 * 5)"
   ]
  },
  {
   "cell_type": "code",
   "execution_count": null,
   "metadata": {
    "colab": {
     "base_uri": "https://localhost:8080/"
    },
    "id": "IAKPPnczP8m9",
    "outputId": "3f262637-c4cf-43a2-972e-165f158184cc"
   },
   "outputs": [],
   "source": [
    "# Veamos cuántos caracteres tiene la variable texto1\n",
    "print(len(texto1))\n",
    "print(texto1.upper())\n",
    "print(texto1.lower())"
   ]
  },
  {
   "cell_type": "code",
   "execution_count": null,
   "metadata": {
    "colab": {
     "base_uri": "https://localhost:8080/"
    },
    "id": "lSrokIRuQFpZ",
    "outputId": "cb4ee660-8d14-4074-b792-4871d2b81d6f"
   },
   "outputs": [],
   "source": [
    "# Veamos cómo maneja Python los caracteres con las funciones len, min, y max\n",
    "texto = \"amARillo1\"\n",
    "\n",
    "print(texto)\n",
    "print(\"Cantidad de caracteres: \", len(texto))\n",
    "print(\"Caracter con valor más bajo: \", min(texto))\n",
    "print(\"Caracter con valor más alto: \", max(texto))"
   ]
  },
  {
   "cell_type": "code",
   "execution_count": null,
   "metadata": {
    "colab": {
     "base_uri": "https://localhost:8080/"
    },
    "id": "27yBzDm_Sp_l",
    "outputId": "e0fbc2e3-3de1-49f7-8a07-5c45cd0abfe1"
   },
   "outputs": [],
   "source": [
    "# Veamos cómo maneja Python los caracteres con las funciones len, min, y max\n",
    "texto = \"verde\"\n",
    "\n",
    "print(texto)\n",
    "print(\"Cantidad de caracteres: \", len(texto))\n",
    "print(\"Caracter con valor más bajo: \", min(texto))\n",
    "print(\"Caracter con valor más alto: \", max(texto))"
   ]
  },
  {
   "cell_type": "code",
   "execution_count": null,
   "metadata": {
    "colab": {
     "base_uri": "https://localhost:8080/"
    },
    "id": "8NSwyiqqS5Tn",
    "outputId": "4b96fd89-9b18-426c-c4c1-e8077042a525"
   },
   "outputs": [],
   "source": [
    "# Veamos cómo maneja Python los caracteres con las funciones len, min, y max\n",
    "texto = \"amarIllo\".upper()\n",
    "\n",
    "print(texto)\n",
    "print(\"Cantidad de caracteres: \", len(texto))\n",
    "print(\"Caracter con valor más bajo: \", min(texto))\n",
    "print(\"Caracter con valor más alto: \", max(texto))"
   ]
  },
  {
   "cell_type": "markdown",
   "metadata": {
    "id": "Vib3R2BUHyBv"
   },
   "source": [
    "Otros tipos de datos pueden ser convertidos en texto e incluso le podemos dar el formato que deseemos. Veamos el siguiente ejemplo."
   ]
  },
  {
   "cell_type": "code",
   "execution_count": null,
   "metadata": {
    "colab": {
     "base_uri": "https://localhost:8080/"
    },
    "id": "d987g715Hwe9",
    "outputId": "ccc3850c-2d3c-471e-e09d-d1e18c3b0d8c"
   },
   "outputs": [],
   "source": [
    "# Definamos las siguientes variables \n",
    "e = 2.718125\n",
    "z = [1, \"dos\", 3, 4.0, [\"A\", \"b\"]]\n",
    "\n",
    "print(\"La constante e es: \", e, \" y la lista z es: \", z)"
   ]
  },
  {
   "cell_type": "code",
   "execution_count": null,
   "metadata": {
    "colab": {
     "base_uri": "https://localhost:8080/"
    },
    "id": "mXtvO-i_JD_0",
    "outputId": "b9da586c-8da5-4107-917b-963fc41b64bb"
   },
   "outputs": [],
   "source": [
    "# Sin embargo, en Python, generalmente hay varias maneras de llegar al mismo resultado\n",
    "print(\"La constante e es: {:.3f} y la lista z es: {}\".format(e, z[-2]))"
   ]
  },
  {
   "cell_type": "code",
   "execution_count": null,
   "metadata": {
    "colab": {
     "base_uri": "https://localhost:8080/",
     "height": 183
    },
    "id": "wa0D2cSpLBJx",
    "outputId": "da59e59c-0f12-45d3-b2c3-4515b3cf7ff4"
   },
   "outputs": [],
   "source": [
    "# Notemos que en este ejemplo no cambiamos la variable, sino que seleccionamos un valor de la lista y modificamos el formato\n",
    "print(\"La constante e es: {:.2f} y la lista z es: {:.4f}\".format(e, z[1]))"
   ]
  },
  {
   "cell_type": "markdown",
   "metadata": {
    "id": "CO4AkhBOTJA-"
   },
   "source": [
    "# Operadores Aritméticos\n",
    "\n",
    "Un operador aritmético toma dos operandos como entrada, realiza un cálculo y devuelve el resultado."
   ]
  },
  {
   "cell_type": "markdown",
   "metadata": {
    "id": "_wMY2C33TQAm"
   },
   "source": [
    "# Lista de Operadores\n",
    "- \"+\"\tRealiza Adición entre los operandos\t12 + 3 = 15\n",
    "- \"-\"\tRealiza Substracción entre los operandos\t12 - 3 = 9\n",
    "- \"*\"\tRealiza Multiplicación entre los operandos\t12 * 3 = 36\n",
    "- \"/\"\tRealiza División entre los operandos\t12 / 3 = 4\n",
    "- \"%\"\tRealiza un módulo entre los operandos\t16 % 3 = 1\n",
    "- \"**\"\tRealiza la potencia de los operandos\t12 ** 3 = 1728\n",
    "- \"//\"\tRealiza la división con resultado de número entero\t18 // 5 = 3\n",
    "\n"
   ]
  },
  {
   "cell_type": "code",
   "execution_count": null,
   "metadata": {
    "colab": {
     "base_uri": "https://localhost:8080/"
    },
    "id": "ZQNMVCWKTVZe",
    "outputId": "de929ef5-eaa4-4c8c-a09d-693f21fe8fc6"
   },
   "outputs": [
    {
     "data": {
      "text/plain": [
       "242"
      ]
     },
     "metadata": {},
     "output_type": "display_data"
    }
   ],
   "source": [
    "2 + 3 * 80 # Aqui realizamos una multiplicacion y luego una suma 8 por 3 es 240 mas 2 es 242"
   ]
  },
  {
   "cell_type": "code",
   "execution_count": null,
   "metadata": {
    "colab": {
     "base_uri": "https://localhost:8080/"
    },
    "id": "IVsXmPnfTcD1",
    "outputId": "39ce394e-fbad-417b-b690-65cf6a0ed81a"
   },
   "outputs": [
    {
     "data": {
      "text/plain": [
       "45"
      ]
     },
     "metadata": {},
     "output_type": "display_data"
    }
   ],
   "source": [
    "(2+3) * 9 # Aqui siempre realizamos los paréntesis primero"
   ]
  },
  {
   "cell_type": "code",
   "execution_count": null,
   "metadata": {
    "colab": {
     "base_uri": "https://localhost:8080/"
    },
    "id": "lDw8PD0HTjx-",
    "outputId": "bf51f632-6336-4b7a-ce77-dd30c6527586"
   },
   "outputs": [
    {
     "data": {
      "text/plain": [
       "300"
      ]
     },
     "metadata": {},
     "output_type": "display_data"
    }
   ],
   "source": [
    "30 * 10 # Una simple multiplicacion"
   ]
  },
  {
   "cell_type": "code",
   "execution_count": null,
   "metadata": {
    "colab": {
     "base_uri": "https://localhost:8080/"
    },
    "id": "JcZhDFOuTlzO",
    "outputId": "e40906d5-4909-406e-d787-ad915468575e"
   },
   "outputs": [
    {
     "data": {
      "text/plain": [
       "256"
      ]
     },
     "metadata": {},
     "output_type": "display_data"
    }
   ],
   "source": [
    "2 ** 8 # Estamos elevando 2 al exponente 8"
   ]
  },
  {
   "cell_type": "code",
   "execution_count": null,
   "metadata": {
    "colab": {
     "base_uri": "https://localhost:8080/"
    },
    "id": "OFVRwMj-TnhV",
    "outputId": "e55f9aa9-4218-45b8-f2d7-a08fc49ad570"
   },
   "outputs": [
    {
     "data": {
      "text/plain": [
       "3.2857142857142856"
      ]
     },
     "metadata": {},
     "output_type": "display_data"
    }
   ],
   "source": [
    "23 / 7 # Aqui estamos haciendo una division"
   ]
  },
  {
   "cell_type": "code",
   "execution_count": null,
   "metadata": {
    "colab": {
     "base_uri": "https://localhost:8080/"
    },
    "id": "v1_d0qjxTpI2",
    "outputId": "fdc3a3ad-f6bf-48d8-c85a-c76fafaea893"
   },
   "outputs": [
    {
     "data": {
      "text/plain": [
       "3"
      ]
     },
     "metadata": {},
     "output_type": "display_data"
    }
   ],
   "source": [
    "23 // 7 # La misma division pero truncada a solo enteros"
   ]
  },
  {
   "cell_type": "code",
   "execution_count": null,
   "metadata": {
    "colab": {
     "base_uri": "https://localhost:8080/"
    },
    "id": "hoCo1SicTqt_",
    "outputId": "7660332e-19c0-4c5f-e0aa-fd59642c88e5"
   },
   "outputs": [
    {
     "data": {
      "text/plain": [
       "1"
      ]
     },
     "metadata": {},
     "output_type": "display_data"
    }
   ],
   "source": [
    "5 % 2 # Aca estamos realizado una operacion especial llamada módulo que se refiere al residuo de una division"
   ]
  },
  {
   "cell_type": "code",
   "execution_count": null,
   "metadata": {
    "colab": {
     "base_uri": "https://localhost:8080/"
    },
    "id": "bnQreCaKTsG-",
    "outputId": "4cefd786-1a78-4714-ab68-0e333158d93d"
   },
   "outputs": [
    {
     "data": {
      "text/plain": [
       "2"
      ]
     },
     "metadata": {},
     "output_type": "display_data"
    }
   ],
   "source": [
    "23 % 7 # Otro ejemplo de modulo"
   ]
  },
  {
   "cell_type": "markdown",
   "metadata": {
    "id": "BF0GMkM2KC8O"
   },
   "source": [
    "# Operadores de asignacion\n",
    "\n",
    "Con los operadores antes mencionados podemos crear nuevos operadores llamados operadores de asignacion, lo que nos permite ir agregando o quitando a una variable en especifico, estos operadores son:\n",
    "\n",
    "**=** Como ya lo hemos visto antes es un operador de asignacion simple y nos permite asignar un valor a una variable."
   ]
  },
  {
   "cell_type": "code",
   "execution_count": null,
   "metadata": {
    "id": "OiC4idlULIN3"
   },
   "outputs": [],
   "source": [
    "a = 1"
   ]
  },
  {
   "cell_type": "markdown",
   "metadata": {
    "id": "n2OzC4_pOmKK"
   },
   "source": [
    "Con el operador **=** podemos realizar operaciones en conjunto, por ejemplo:"
   ]
  },
  {
   "cell_type": "code",
   "execution_count": null,
   "metadata": {
    "colab": {
     "base_uri": "https://localhost:8080/"
    },
    "id": "XfGV8RUmOtNr",
    "outputId": "6ea300cd-0d2c-4d75-b9e8-85edf8958d6f"
   },
   "outputs": [
    {
     "data": {
      "text/plain": [
       "2"
      ]
     },
     "metadata": {},
     "output_type": "display_data"
    }
   ],
   "source": [
    "a = 1\n",
    "a = a + 1 # Aqui estamos diciendole a Python que el valor de a, va a ser el mismo valor mas uno\n",
    "a"
   ]
  },
  {
   "cell_type": "markdown",
   "metadata": {
    "id": "ZkcIf6EfO2t7"
   },
   "source": [
    "Esta misma operacion y mucho mas lo podemos realizar de manera sencilla utilizando operadores especiales como:"
   ]
  },
  {
   "cell_type": "markdown",
   "metadata": {
    "id": "cyEbsqGnLJ1-"
   },
   "source": [
    "**+=** Nos permite utilizar el operador de suma para agregar a una variable el valor extra, por ejemplo:"
   ]
  },
  {
   "cell_type": "code",
   "execution_count": null,
   "metadata": {
    "colab": {
     "base_uri": "https://localhost:8080/"
    },
    "id": "RWxBhi1kLT4I",
    "outputId": "8fbae3d0-27bc-48c6-880e-aa060e2e31a9"
   },
   "outputs": [
    {
     "data": {
      "text/plain": [
       "2"
      ]
     },
     "metadata": {},
     "output_type": "display_data"
    }
   ],
   "source": [
    "a = 1\n",
    "a += 1\n",
    "a"
   ]
  },
  {
   "cell_type": "markdown",
   "metadata": {
    "id": "UsY-zd4eLfdo"
   },
   "source": [
    "**-=** Es parecido al anterior, pero hace lo contrario, este resta a una variable existente"
   ]
  },
  {
   "cell_type": "code",
   "execution_count": null,
   "metadata": {
    "colab": {
     "base_uri": "https://localhost:8080/"
    },
    "id": "qVNgyNbPLoZw",
    "outputId": "c64a1677-a247-4c47-da65-d9b1812745db"
   },
   "outputs": [
    {
     "data": {
      "text/plain": [
       "0"
      ]
     },
     "metadata": {},
     "output_type": "display_data"
    }
   ],
   "source": [
    "a = 1\n",
    "a -= 1\n",
    "a"
   ]
  },
  {
   "cell_type": "markdown",
   "metadata": {
    "id": "4B3QyWWnLq9_"
   },
   "source": [
    "***=** Tambien tenemos para la multiplicacion"
   ]
  },
  {
   "cell_type": "code",
   "execution_count": null,
   "metadata": {
    "colab": {
     "base_uri": "https://localhost:8080/"
    },
    "id": "YEThQ2m_L5Eg",
    "outputId": "fcc497c9-2178-43c1-813e-cfe3a28d96d0"
   },
   "outputs": [
    {
     "data": {
      "text/plain": [
       "8"
      ]
     },
     "metadata": {},
     "output_type": "display_data"
    }
   ],
   "source": [
    "a = 2\n",
    "a *= 2\n",
    "a *= 2\n",
    "a"
   ]
  },
  {
   "cell_type": "markdown",
   "metadata": {
    "id": "7Rl2ync6L87Q"
   },
   "source": [
    "**/=** Y la division:"
   ]
  },
  {
   "cell_type": "code",
   "execution_count": null,
   "metadata": {
    "colab": {
     "base_uri": "https://localhost:8080/"
    },
    "id": "uLJ88eydMBAg",
    "outputId": "c0ddf8a8-3553-4b92-946b-9f3f03785501"
   },
   "outputs": [
    {
     "data": {
      "text/plain": [
       "1.0"
      ]
     },
     "metadata": {},
     "output_type": "display_data"
    }
   ],
   "source": [
    "a = 4\n",
    "a /= 2\n",
    "a /= 2\n",
    "a"
   ]
  },
  {
   "cell_type": "markdown",
   "metadata": {
    "id": "_cAql4x5MKLP"
   },
   "source": [
    "Finalmente tenemos operadores como **%=** , **//=** y **\\*\\*=**"
   ]
  },
  {
   "cell_type": "code",
   "execution_count": null,
   "metadata": {
    "colab": {
     "base_uri": "https://localhost:8080/"
    },
    "id": "5GDdTFUaOMvD",
    "outputId": "a9292817-29f2-4258-d14a-6b4f7ed1c0fe"
   },
   "outputs": [
    {
     "data": {
      "text/plain": [
       "1"
      ]
     },
     "metadata": {},
     "output_type": "display_data"
    }
   ],
   "source": [
    "a = 5\n",
    "a %= 2  # El modulo o residuo de 5 entre 2 osea 1 nuevamente a la variable a\n",
    "a"
   ]
  },
  {
   "cell_type": "code",
   "execution_count": null,
   "metadata": {
    "colab": {
     "base_uri": "https://localhost:8080/"
    },
    "id": "CWcn4k8nOdok",
    "outputId": "6b635033-2ca4-406e-e2ad-6eec0d1ba231"
   },
   "outputs": [
    {
     "data": {
      "text/plain": [
       "2"
      ]
     },
     "metadata": {},
     "output_type": "display_data"
    }
   ],
   "source": [
    "a = 5\n",
    "a //= 2 # La division entera de 5 entre 2 osea 2 reasignado a la variable a\n",
    "a"
   ]
  },
  {
   "cell_type": "code",
   "execution_count": null,
   "metadata": {
    "colab": {
     "base_uri": "https://localhost:8080/"
    },
    "id": "-o3mVLghPTiz",
    "outputId": "f8f3b770-0bf1-47dc-d65e-3e5d494b19f4"
   },
   "outputs": [
    {
     "data": {
      "text/plain": [
       "25"
      ]
     },
     "metadata": {},
     "output_type": "display_data"
    }
   ],
   "source": [
    "a = 5\n",
    "a **= 2 # 5 almacenado en a lo elevamos a la potencia 2 y lo almacenamos en a\n",
    "a"
   ]
  },
  {
   "cell_type": "markdown",
   "metadata": {
    "id": "CUpQV9bOP92V"
   },
   "source": [
    "# Operadores de comparacion\n",
    "\n",
    "Ademas de estos operadores hay operadores para comparar valores, por ejemplo: "
   ]
  },
  {
   "cell_type": "markdown",
   "metadata": {
    "id": "LNvVUiuLUWSb"
   },
   "source": [
    "**==** Con este operador comparamos 2 valores y confirmamos si son iguales, por ejemplo:"
   ]
  },
  {
   "cell_type": "code",
   "execution_count": null,
   "metadata": {
    "colab": {
     "base_uri": "https://localhost:8080/"
    },
    "id": "YqP4PiTiQkQ-",
    "outputId": "55551e91-7dda-40e8-ceb7-81346f5b4104"
   },
   "outputs": [
    {
     "data": {
      "text/plain": [
       "True"
      ]
     },
     "metadata": {},
     "output_type": "display_data"
    }
   ],
   "source": [
    "'❤️' == '❤️'"
   ]
  },
  {
   "cell_type": "markdown",
   "metadata": {
    "id": "vuY5XHAhUmJS"
   },
   "source": [
    "**!=** Con este operador vemos si 2 valores son diferentes"
   ]
  },
  {
   "cell_type": "code",
   "execution_count": null,
   "metadata": {
    "colab": {
     "base_uri": "https://localhost:8080/"
    },
    "id": "eyShc_j5Ur7B",
    "outputId": "6f57fca4-9bab-4118-cf10-3e519e0078a2"
   },
   "outputs": [
    {
     "data": {
      "text/plain": [
       "True"
      ]
     },
     "metadata": {},
     "output_type": "display_data"
    }
   ],
   "source": [
    "'Perro 🐕' != 'Gato 🐱'"
   ]
  },
  {
   "cell_type": "markdown",
   "metadata": {
    "id": "XLyhzOxYU7Cz"
   },
   "source": [
    "Tambien tenemos operadores de comparacion mayor, menor, mayor igual o menor igual que:\n",
    "\n",
    "**<** Menor que\n",
    "\n",
    "**>** Mayor que\n",
    "\n",
    "**>=** Mayor igual que\n",
    "\n",
    "**<=** Menor igual que"
   ]
  },
  {
   "cell_type": "code",
   "execution_count": null,
   "metadata": {
    "colab": {
     "base_uri": "https://localhost:8080/"
    },
    "id": "udT-DdjzVlrL",
    "outputId": "4a393adc-d18c-4e68-f1cd-7a418fab1541"
   },
   "outputs": [
    {
     "data": {
      "text/plain": [
       "True"
      ]
     },
     "metadata": {},
     "output_type": "display_data"
    }
   ],
   "source": [
    "2 > 1 # Es cierto que 2 es mayor que 1"
   ]
  },
  {
   "cell_type": "code",
   "execution_count": null,
   "metadata": {
    "colab": {
     "base_uri": "https://localhost:8080/"
    },
    "id": "cuE-Vr3YVPAc",
    "outputId": "57f960ad-28fd-4205-b23a-c9c69fc717f5"
   },
   "outputs": [
    {
     "data": {
      "text/plain": [
       "True"
      ]
     },
     "metadata": {},
     "output_type": "display_data"
    }
   ],
   "source": [
    "1 > 1 # Es falso que 1 es mayor que 1"
   ]
  },
  {
   "cell_type": "code",
   "execution_count": null,
   "metadata": {
    "colab": {
     "base_uri": "https://localhost:8080/"
    },
    "id": "BUstTH8dVT7r",
    "outputId": "82e6ea70-d167-49b6-be95-5bf0eae6fe3a"
   },
   "outputs": [
    {
     "data": {
      "text/plain": [
       "False"
      ]
     },
     "metadata": {},
     "output_type": "display_data"
    }
   ],
   "source": [
    "12 < 3 # Es falso que 12 es menor que 3"
   ]
  },
  {
   "cell_type": "code",
   "execution_count": null,
   "metadata": {
    "colab": {
     "base_uri": "https://localhost:8080/"
    },
    "id": "a73kzNAYVcQS",
    "outputId": "c5f1d679-1f6d-4d57-8faa-b5cbdb2e7808"
   },
   "outputs": [
    {
     "data": {
      "text/plain": [
       "True"
      ]
     },
     "metadata": {},
     "output_type": "display_data"
    }
   ],
   "source": [
    "1 >= 1 # es cierto 1 es mayor o igual a 1"
   ]
  }
 ],
 "metadata": {
  "kernelspec": {
   "display_name": "Python 3.10.7 64-bit",
   "language": "python",
   "name": "python3"
  },
  "language_info": {
   "name": "python",
   "version": "3.10.7"
  },
  "orig_nbformat": 4,
  "vscode": {
   "interpreter": {
    "hash": "f0ee762d84ddad7086513e3826a35260320b545ff56322a682f2835eb942653a"
   }
  }
 },
 "nbformat": 4,
 "nbformat_minor": 2
}
