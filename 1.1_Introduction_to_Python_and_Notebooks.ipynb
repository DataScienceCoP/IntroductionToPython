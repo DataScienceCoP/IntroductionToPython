{
 "cells": [
  {
   "cell_type": "markdown",
   "metadata": {},
   "source": [
    "![Data Science Black@300x.png](https://i.imgur.com/KIHm5UF.png)\n",
    "\n",
    "# Hola UTP Coclé, Bienvenidos a nuestra Introducción de Python!!!\n",
    "\n",
    "En este taller estaremos aprendiendo el Lenguaje de programación Python muy práctico para muchas cosas, desde un \"Hola Mundo\" hasta antigravity.\n",
    "\n",
    "El entorno que estas viendo se llama Binder y esta basado en \"notebooks\" o libretas que permite ejecutar tu código en la nube.\n",
    "\n",
    "## ¿Que es Python y Notebooks?\n",
    "\n",
    "Python es un lenguaje de programación que permite ejecutar las instrucciones que le indiques.\n",
    "\n",
    "Notebooks es el entorno que ejecuta el codigo Python y te lo muestra en pantalla de manera interactiva, algo diferente al codigo fuente en texto plano que estamos acostumbrados.\n"
   ]
  },
  {
   "cell_type": "markdown",
   "metadata": {
    "id": "ndwVRcbr7vWs"
   },
   "source": [
    "Aqui tenemos campos de contenido como este que estamos leyendo, pero ademas tiene campos de codigo python como el que vez abajo:"
   ]
  },
  {
   "cell_type": "code",
   "execution_count": 4,
   "metadata": {},
   "outputs": [
    {
     "data": {
      "text/plain": [
       "2"
      ]
     },
     "execution_count": 4,
     "metadata": {},
     "output_type": "execute_result"
    }
   ],
   "source": [
    "1+1"
   ]
  },
  {
   "cell_type": "code",
   "execution_count": 5,
   "metadata": {
    "id": "JUT9RytI7umb"
   },
   "outputs": [
    {
     "data": {
      "text/plain": [
       "2"
      ]
     },
     "execution_count": 5,
     "metadata": {},
     "output_type": "execute_result"
    }
   ],
   "source": [
    "1+1"
   ]
  },
  {
   "cell_type": "markdown",
   "metadata": {
    "id": "VeWvNU2S8Axs"
   },
   "source": [
    "En los campos de codigo puedes escribir codigo Python y presional en el boton de ejecutar para ver el resultado"
   ]
  },
  {
   "cell_type": "code",
   "execution_count": 6,
   "metadata": {
    "colab": {
     "base_uri": "https://localhost:8080/"
    },
    "executionInfo": {
     "elapsed": 206,
     "status": "ok",
     "timestamp": 1636482352195,
     "user": {
      "displayName": "Faustino Aguilar",
      "photoUrl": "https://lh3.googleusercontent.com/a-/AOh14GgFcVwgoxf7itzyE0hwwpvYLYcPzzON79QhdlKYXg=s64",
      "userId": "09902268434297212750"
     },
     "user_tz": 300
    },
    "id": "VAeIyvgR8KMk",
    "outputId": "bcb60066-c917-418d-cd70-933f6c220218"
   },
   "outputs": [
    {
     "data": {
      "text/plain": [
       "2"
      ]
     },
     "execution_count": 6,
     "metadata": {},
     "output_type": "execute_result"
    }
   ],
   "source": [
    "1+1"
   ]
  },
  {
   "cell_type": "code",
   "execution_count": 7,
   "metadata": {
    "colab": {
     "base_uri": "https://localhost:8080/"
    },
    "executionInfo": {
     "elapsed": 231,
     "status": "ok",
     "timestamp": 1636643022967,
     "user": {
      "displayName": "Jose Rojas",
      "photoUrl": "https://lh3.googleusercontent.com/a-/AOh14Git1RHxFT7Ix6m9UIsGhUKIMgZVVg6K3a-yXjE2Ag=s64",
      "userId": "03023938090843279389"
     },
     "user_tz": 300
    },
    "id": "HdlaZmsihnl1",
    "outputId": "584a5e35-72d7-4162-f943-6114d8d2e308"
   },
   "outputs": [
    {
     "data": {
      "text/plain": [
       "4"
      ]
     },
     "execution_count": 7,
     "metadata": {},
     "output_type": "execute_result"
    }
   ],
   "source": [
    "2+2\n"
   ]
  },
  {
   "cell_type": "markdown",
   "metadata": {
    "id": "qqmKcJMN-fZt"
   },
   "source": [
    "En Python adicionalmente tenemos la caracteristica de colocar comentarios explicativos que no afectan la ejecucion del programa. Estos se escriben dentro del código utilizando el caracter '#':\n"
   ]
  },
  {
   "cell_type": "code",
   "execution_count": 8,
   "metadata": {
    "id": "j6sl3bOo-uWe"
   },
   "outputs": [],
   "source": [
    "# Este es un comentario dentro de Python"
   ]
  },
  {
   "cell_type": "markdown",
   "metadata": {
    "id": "kJkv8aDH7tgt"
   },
   "source": [
    "# ¿Que es programar?\n",
    "\n",
    "\"Programar es el simple acto de escribir instrucciones para que una computadora las ejecute\""
   ]
  },
  {
   "cell_type": "code",
   "execution_count": 9,
   "metadata": {
    "colab": {
     "base_uri": "https://localhost:8080/"
    },
    "executionInfo": {
     "elapsed": 387,
     "status": "ok",
     "timestamp": 1635433978435,
     "user": {
      "displayName": "Faustino Aguilar",
      "photoUrl": "https://lh3.googleusercontent.com/a-/AOh14GiapgsHRv-h6gRl7qDwJW5SjhaYsNzY8i-lVGEWxQ=s64",
      "userId": "09902268434297212750"
     },
     "user_tz": 300
    },
    "id": "kvwFByHgRUkn",
    "outputId": "c62074fc-d6fb-4f56-e288-c55901176bf0"
   },
   "outputs": [
    {
     "name": "stdout",
     "output_type": "stream",
     "text": [
      "Hola Mundo!!!!!\n"
     ]
    }
   ],
   "source": [
    "print(\"Hola Mundo!!!!!\")"
   ]
  },
  {
   "cell_type": "markdown",
   "metadata": {
    "id": "GHpHTj0LRdmV"
   },
   "source": [
    "# ¿Que es eso que acabo de escribir?\n",
    "\n",
    "Viéndolo paso a paso primero tenemos la instruccion \"print\" que significa en español \"imprimir\"\n",
    "\n",
    "Luego tenemos paréntesis que representan la forma que Python utiliza para asignar datos a una instruccion.\n",
    "\n",
    "Luego abrimos comillas y escribimos el mensaje que quiere imprimir en pantalla\n",
    "\n",
    "Al final, tenemos un bonito \"Hola Mundo\" como tipo de dato de texto solamente."
   ]
  },
  {
   "cell_type": "markdown",
   "metadata": {
    "id": "OQW2K8kxUD19"
   },
   "source": [
    "# Entendiendo errores en el Entorno de Programacion\n",
    "\n",
    "Cuando hay un error, Python muestra el tipo de error y su definición.\n",
    "\n",
    "Ademas muestra en que linea necesitas corregir.\n",
    "\n",
    "Por ejemplo abajo se nos muestra dos numeros enteros escritos incorrectamente.\n",
    "\n",
    "Uno de ellos es 0b9, si recordamos en binario, los numeros solo pueden ser 0 y 1"
   ]
  },
  {
   "cell_type": "code",
   "execution_count": null,
   "metadata": {
    "colab": {
     "base_uri": "https://localhost:8080/",
     "height": 129
    },
    "executionInfo": {
     "elapsed": 240,
     "status": "error",
     "timestamp": 1636483020837,
     "user": {
      "displayName": "Faustino Aguilar",
      "photoUrl": "https://lh3.googleusercontent.com/a-/AOh14GgFcVwgoxf7itzyE0hwwpvYLYcPzzON79QhdlKYXg=s64",
      "userId": "09902268434297212750"
     },
     "user_tz": 300
    },
    "id": "MuxgSCsaT0z3",
    "outputId": "3346d563-6dd3-445e-a05f-2e856bccfdfd"
   },
   "outputs": [
    {
     "ename": "SyntaxError",
     "evalue": "ignored",
     "output_type": "error",
     "traceback": [
      "\u001b[0;36m  File \u001b[0;32m\"<ipython-input-22-7e643dd93c43>\"\u001b[0;36m, line \u001b[0;32m1\u001b[0m\n",
      "\u001b[0;31m    0b9\u001b[0m\n",
      "\u001b[0m     ^\u001b[0m\n",
      "\u001b[0;31mSyntaxError\u001b[0m\u001b[0;31m:\u001b[0m invalid token\n"
     ]
    }
   ],
   "source": [
    "0b9"
   ]
  },
  {
   "cell_type": "markdown",
   "metadata": {
    "id": "Wl85Hirt_pXX"
   },
   "source": [
    "Adicionalmente tenemos el numero 0xz, que es un hexadecimal, donde los las letras solo van desde la 'a' a la 'f'"
   ]
  },
  {
   "cell_type": "code",
   "execution_count": null,
   "metadata": {
    "colab": {
     "base_uri": "https://localhost:8080/",
     "height": 129
    },
    "executionInfo": {
     "elapsed": 224,
     "status": "error",
     "timestamp": 1636483027057,
     "user": {
      "displayName": "Faustino Aguilar",
      "photoUrl": "https://lh3.googleusercontent.com/a-/AOh14GgFcVwgoxf7itzyE0hwwpvYLYcPzzON79QhdlKYXg=s64",
      "userId": "09902268434297212750"
     },
     "user_tz": 300
    },
    "id": "lQP9Pdk3T7Yd",
    "outputId": "ce936a64-36aa-4a7a-c74e-14e4e86411c2"
   },
   "outputs": [
    {
     "ename": "SyntaxError",
     "evalue": "ignored",
     "output_type": "error",
     "traceback": [
      "\u001b[0;36m  File \u001b[0;32m\"<ipython-input-23-612d076b7a98>\"\u001b[0;36m, line \u001b[0;32m1\u001b[0m\n",
      "\u001b[0;31m    0xz\u001b[0m\n",
      "\u001b[0m     ^\u001b[0m\n",
      "\u001b[0;31mSyntaxError\u001b[0m\u001b[0;31m:\u001b[0m invalid token\n"
     ]
    }
   ],
   "source": [
    "0xz"
   ]
  },
  {
   "cell_type": "markdown",
   "metadata": {
    "id": "Y0tgrjhzHPUr"
   },
   "source": [
    "## Almacenando simples variables\n",
    "\n",
    "En este segmento tambien daremos una breve utilización de variables que explicaremos en las próximas clases mas a detalle.\n",
    "\n",
    "\n",
    "Una variable es una simple manera de almacenar un tipo de dato en Python.\n",
    "\n",
    "Las variables, son nombres que puedes asignar a tu código para utilizarlo mas adelante:"
   ]
  },
  {
   "cell_type": "code",
   "execution_count": null,
   "metadata": {
    "id": "tvjeQ1BgHgOT",
    "trusted": true
   },
   "outputs": [],
   "source": [
    "a = 3"
   ]
  },
  {
   "cell_type": "code",
   "execution_count": null,
   "metadata": {
    "colab": {
     "base_uri": "https://localhost:8080/"
    },
    "id": "LcQSzJN5H-VM",
    "outputId": "1f8ccf36-3c09-482a-d465-f9c24ac37e1c",
    "trusted": true
   },
   "outputs": [
    {
     "data": {
      "text/plain": [
       "3"
      ]
     },
     "metadata": {},
     "output_type": "display_data"
    }
   ],
   "source": [
    "a"
   ]
  },
  {
   "cell_type": "markdown",
   "metadata": {
    "id": "mw9pIO53Hlts"
   },
   "source": [
    "# Ejecutando operaciones con tipos de datos\n",
    "\n",
    "Los tipos de datos en Python permiten ejecutar operaciones entre ellos.\n",
    "\n",
    "Puedes realizar por ejemplo con los enteros operaciones básicas que podrias ejecutar en una calculadora."
   ]
  },
  {
   "cell_type": "code",
   "execution_count": null,
   "metadata": {
    "colab": {
     "base_uri": "https://localhost:8080/"
    },
    "id": "TQ4NMSPVImEO",
    "outputId": "3aca7005-9ca1-43e5-e708-190e1dbb59a9",
    "trusted": true
   },
   "outputs": [
    {
     "data": {
      "text/plain": [
       "11"
      ]
     },
     "metadata": {},
     "output_type": "display_data"
    }
   ],
   "source": [
    "1+10"
   ]
  },
  {
   "cell_type": "code",
   "execution_count": null,
   "metadata": {
    "colab": {
     "base_uri": "https://localhost:8080/"
    },
    "id": "AtTNks5EIm91",
    "outputId": "3116c2e8-654e-430c-f647-610802da8f74",
    "trusted": true
   },
   "outputs": [
    {
     "data": {
      "text/plain": [
       "1"
      ]
     },
     "metadata": {},
     "output_type": "display_data"
    }
   ],
   "source": [
    "2-1"
   ]
  },
  {
   "cell_type": "code",
   "execution_count": null,
   "metadata": {
    "colab": {
     "base_uri": "https://localhost:8080/"
    },
    "id": "sOX4s5zXInwp",
    "outputId": "17582a36-c263-4528-e3f8-cd532cff2908",
    "trusted": true
   },
   "outputs": [
    {
     "data": {
      "text/plain": [
       "4"
      ]
     },
     "metadata": {},
     "output_type": "display_data"
    }
   ],
   "source": [
    "2*2"
   ]
  },
  {
   "cell_type": "code",
   "execution_count": null,
   "metadata": {
    "colab": {
     "base_uri": "https://localhost:8080/"
    },
    "id": "06vrOkYqIpr9",
    "outputId": "ea2dd250-4657-4623-cf15-263955664355",
    "trusted": true
   },
   "outputs": [
    {
     "data": {
      "text/plain": [
       "2.0"
      ]
     },
     "metadata": {},
     "output_type": "display_data"
    }
   ],
   "source": [
    "4/2"
   ]
  },
  {
   "cell_type": "markdown",
   "metadata": {
    "id": "5Yte27QtIs7l"
   },
   "source": [
    "Tambien en Python nos puestra si nuestra operacion esta incorrecta, por ejemplo nos muestra un error si nuestra division es entre 0:"
   ]
  },
  {
   "cell_type": "code",
   "execution_count": null,
   "metadata": {
    "colab": {
     "base_uri": "https://localhost:8080/",
     "height": 163
    },
    "id": "iky0wlziIq3l",
    "outputId": "c0903d00-d485-4176-ac5d-41efdd35c55d",
    "trusted": true
   },
   "outputs": [
    {
     "ename": "ZeroDivisionError",
     "evalue": "division by zero",
     "output_type": "error",
     "traceback": [
      "\u001b[0;31m---------------------------------------------------------------------------\u001b[0m\n",
      "\u001b[0;31mZeroDivisionError\u001b[0m                         Traceback (most recent call last)\n",
      "\u001b[0;32m/tmp/ipykernel_87/2354412189.py\u001b[0m in \u001b[0;36m<module>\u001b[0;34m\u001b[0m\n",
      "\u001b[0;32m----> 1\u001b[0;31m \u001b[0;36m1\u001b[0m\u001b[0;34m/\u001b[0m\u001b[0;36m0\u001b[0m\u001b[0;34m\u001b[0m\u001b[0;34m\u001b[0m\u001b[0m\n",
      "\u001b[0m\n",
      "\u001b[0;31mZeroDivisionError\u001b[0m: division by zero"
     ]
    }
   ],
   "source": [
    "1/0"
   ]
  },
  {
   "cell_type": "markdown",
   "metadata": {
    "id": "f2Us6be_I5b1"
   },
   "source": [
    "Adicionalmente operaciones similares pueden realizarse entre otros tipos de datos, como cadena.\n",
    "\n",
    "La operacion que realizamos comunmente con las cadenas es la concatenacion, que realizamos utilizando el símbolo de +"
   ]
  },
  {
   "cell_type": "code",
   "execution_count": null,
   "metadata": {
    "colab": {
     "base_uri": "https://localhost:8080/",
     "height": 35
    },
    "id": "lMUtlp1qIyLV",
    "outputId": "40d04427-2248-4d91-db56-a8ebd9836761",
    "trusted": true
   },
   "outputs": [],
   "source": [
    "'Esta es una cadena' +  ' y le agrego otra cadena'"
   ]
  },
  {
   "cell_type": "markdown",
   "metadata": {
    "id": "_4E9tNriJPgm"
   },
   "source": [
    "Python es bien versatil y nos permite utilizar multiples tipos de datos para acorar los procesos de ejecucion, por ejemplo podemos multiplicar una cadena por un numero y tenerla varias veces:"
   ]
  },
  {
   "cell_type": "code",
   "execution_count": null,
   "metadata": {
    "colab": {
     "base_uri": "https://localhost:8080/",
     "height": 35
    },
    "id": "VpyurL4oJYOe",
    "outputId": "386ad691-654f-44c5-80a8-0f63edaaacfb",
    "trusted": true
   },
   "outputs": [],
   "source": [
    "'Batman! '* 5"
   ]
  },
  {
   "cell_type": "markdown",
   "metadata": {
    "id": "wD33Ic5dJljY"
   },
   "source": [
    "Sin embargo si intentamos sumar un tipo de dato cadena con un numero nos dará un error ya que tenemos que asegurarnos que al concatenar el tipo de dato se el mismo:"
   ]
  },
  {
   "cell_type": "code",
   "execution_count": null,
   "metadata": {
    "colab": {
     "base_uri": "https://localhost:8080/",
     "height": 163
    },
    "id": "yV05qZhiJgz_",
    "outputId": "a73d235d-9caf-4adc-9bf0-92351a3b5469",
    "trusted": true
   },
   "outputs": [],
   "source": [
    "'Batman!' + 5"
   ]
  },
  {
   "cell_type": "code",
   "execution_count": null,
   "metadata": {
    "colab": {
     "base_uri": "https://localhost:8080/",
     "height": 35
    },
    "id": "Kmy46r9_Jxow",
    "outputId": "0fce586b-ead5-4a64-990a-f4d350e89465",
    "trusted": true
   },
   "outputs": [],
   "source": [
    "'Batman!' + '5'"
   ]
  },
  {
   "cell_type": "markdown",
   "metadata": {
    "id": "LcouuaFZUjfu"
   },
   "source": [
    "# Ejecucion de programas con Entradas\n",
    "\n",
    "En este entorno de progracion, puedes interactuar con lo que escribes.\n",
    "\n",
    "Darle datos a tu creacion y ver los resultados."
   ]
  },
  {
   "cell_type": "code",
   "execution_count": null,
   "metadata": {
    "colab": {
     "base_uri": "https://localhost:8080/"
    },
    "id": "yfY6M_HGUi83",
    "outputId": "429f7223-0949-4680-f101-a1661f7e090b",
    "trusted": true
   },
   "outputs": [],
   "source": [
    "# Mi primer programa dice hola y pregunta por tu nombre\n",
    "\n",
    "print('Hola Mundo!')\n",
    "print('¿Cual es tu nombre?')\n",
    "mi_nombre = input()  \n",
    "print('Es un placer conocerte, ' + mi_nombre)\n",
    "print('Tu nombre tiene ',len(mi_nombre),' letras')\n",
    "\n",
    "print('¿Cual es tu edad?')\n",
    "mi_edad = input()\n",
    "print('Tendras ' + str(int(mi_edad)+1) + ' el proximo año')\n",
    "\n"
   ]
  },
  {
   "cell_type": "markdown",
   "metadata": {
    "id": "7yuZYFTJPLg1"
   },
   "source": [
    "# Talleres\n",
    "\n",
    "Ahora pondremos este conocimiento en practica y veremos algunos ejercicios juntos en Python e interactuaremos con el entorno:"
   ]
  },
  {
   "cell_type": "markdown",
   "metadata": {
    "id": "BY8Ckh6b_LpJ"
   },
   "source": [
    "1. Escribe un programa en Python para imprimir la siguiente cadena en un formato específico (ver la salida). Ir al editor\n",
    "Cadena de ejemplo : \"Brilla, brilla, estrellita, ¡Cómo me pregunto qué eres! Por encima del mundo tan alto, Como un diamante en el cielo. Twinkle, twinkle, little star, How I wonder what you are\" Salida :\n",
    "\n",
    "```\n",
    "Twinkle, twinkle, little star,\n",
    "\tHow I wonder what you are! \n",
    "\t\tUp above the world so high,   \t\t\n",
    "\t\tLike a diamond in the sky. \n",
    "Twinkle, twinkle, little star, \n",
    "\tHow I wonder what you are\n",
    "```\n"
   ]
  },
  {
   "cell_type": "code",
   "execution_count": null,
   "metadata": {
    "id": "GP0ypkudDLmS"
   },
   "outputs": [],
   "source": []
  },
  {
   "cell_type": "markdown",
   "metadata": {
    "id": "c76q1gmjDvlL"
   },
   "source": [
    "2. Escribe un programa en Python para mostrar la fecha y la hora que lees en tu pantalla."
   ]
  },
  {
   "cell_type": "code",
   "execution_count": null,
   "metadata": {
    "id": "rF0u7NTYD-Su"
   },
   "outputs": [],
   "source": []
  },
  {
   "cell_type": "markdown",
   "metadata": {
    "id": "bnID40XxKjLi"
   },
   "source": [
    "3. Escribir un programa en Python que acepte la base y la altura de un triángulo y calcule el área"
   ]
  },
  {
   "cell_type": "code",
   "execution_count": null,
   "metadata": {
    "id": "DnAtbzD8KmkK"
   },
   "outputs": [],
   "source": []
  },
  {
   "cell_type": "markdown",
   "metadata": {
    "id": "ttl4isbLKrMK"
   },
   "source": [
    "4. Escribe un programa en Python que acepte el nombre y el apellido del usuario y los imprima en orden inverso con un espacio entre ellos."
   ]
  },
  {
   "cell_type": "code",
   "execution_count": null,
   "metadata": {
    "id": "OkurTMXAKuVi"
   },
   "outputs": [],
   "source": []
  }
 ],
 "metadata": {
  "kernelspec": {
   "display_name": "Python 3.10.7 64-bit",
   "language": "python",
   "name": "python3"
  },
  "language_info": {
   "codemirror_mode": {
    "name": "ipython",
    "version": 3
   },
   "file_extension": ".py",
   "mimetype": "text/x-python",
   "name": "python",
   "nbconvert_exporter": "python",
   "pygments_lexer": "ipython3",
   "version": "3.10.7"
  },
  "orig_nbformat": 4,
  "vscode": {
   "interpreter": {
    "hash": "f0ee762d84ddad7086513e3826a35260320b545ff56322a682f2835eb942653a"
   }
  }
 },
 "nbformat": 4,
 "nbformat_minor": 2
}
