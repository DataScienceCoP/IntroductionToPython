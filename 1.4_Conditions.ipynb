{
 "cells": [
  {
   "cell_type": "markdown",
   "metadata": {
    "id": "o91wwaCOPs_F"
   },
   "source": [
    "![Data Science Black@300x.png](https://i.imgur.com/KIHm5UF.png)\n",
    "\n",
    "# Condicionales\n",
    "\n",
    "Cuando escribimos código Python es posible ejecutar instrucciones dependiendo de que una condicion especifica.\n",
    "\n",
    "## Indentacion\n",
    "\n",
    "En Python verás que cada espacio de código esta identado osea, que dejamos espacio para identificar los bloques de código. Esto es parte de la syntaxis de Python.\n",
    "\n"
   ]
  },
  {
   "cell_type": "code",
   "execution_count": null,
   "metadata": {
    "colab": {
     "base_uri": "https://localhost:8080/",
     "height": 135
    },
    "id": "g32YNeAhQeUt",
    "outputId": "ce5d0a8f-15f5-4385-de59-4946af9c7c83"
   },
   "outputs": [
    {
     "ename": "IndentationError",
     "evalue": "ignored",
     "output_type": "error",
     "traceback": [
      "\u001b[0;36m  File \u001b[0;32m\"<ipython-input-1-a01f4e1a1464>\"\u001b[0;36m, line \u001b[0;32m4\u001b[0m\n",
      "\u001b[0;31m    print(\"Hola Ana!\")\u001b[0m\n",
      "\u001b[0m        ^\u001b[0m\n",
      "\u001b[0;31mIndentationError\u001b[0m\u001b[0;31m:\u001b[0m expected an indented block\n"
     ]
    }
   ],
   "source": [
    "nombre = \"Ana\"\n",
    "\n",
    "if nombre == \"Ana\":\n",
    "print(\"Hola Ana!\") # Este bloque de código debe estar espaciado al principio, por mejor practica se usan siempre 4 espacios"
   ]
  },
  {
   "cell_type": "markdown",
   "metadata": {
    "id": "uMoXajTHSBGZ"
   },
   "source": [
    "# IF STATEMENT\n",
    "\n",
    "Es un bloque de codigo que nos permite controlar el camino que la computadora cuando ejecuta el codigo"
   ]
  },
  {
   "cell_type": "code",
   "execution_count": null,
   "metadata": {
    "colab": {
     "base_uri": "https://localhost:8080/"
    },
    "id": "pr5QT_PUSAzl",
    "outputId": "cdabf5de-6f00-4e72-bfd3-681be8868fb3"
   },
   "outputs": [
    {
     "name": "stdout",
     "output_type": "stream",
     "text": [
      "el lunes cae la lluvia,entonces no hay escuela\n"
     ]
    }
   ],
   "source": [
    "clima = input(\"\"\"\n",
    "Como esta el clima?\n",
    "- soleado\n",
    "- lluvioso\n",
    "- nublado\n",
    "\"\"\")\n",
    "\n",
    "if clima == \"soleado\":\n",
    "    print (\"El dia esta soleado, podemos ir al parque🌞🏞️🚶 \")"
   ]
  },
  {
   "cell_type": "code",
   "execution_count": null,
   "metadata": {
    "colab": {
     "base_uri": "https://localhost:8080/"
    },
    "id": "JOxy3pE8T66p",
    "outputId": "3ea32aec-a808-4c0d-cefa-1c340cb46c0c"
   },
   "outputs": [
    {
     "name": "stdout",
     "output_type": "stream",
     "text": [
      "10 is a positive number.\n",
      "This is always printed.\n",
      "This is also always printed.\n"
     ]
    }
   ],
   "source": [
    "num = 10\n",
    "if num > 0:\n",
    "    print(num, \"is a positive number.\")\n",
    "print(\"This is always printed.\")\n",
    "\n",
    "num = -5\n",
    "if num > 0:\n",
    "    print(num, \"is a positive number.\")\n",
    "print(\"This is also always printed.\")"
   ]
  },
  {
   "cell_type": "markdown",
   "metadata": {
    "id": "y6kSNg5gO8F7"
   },
   "source": [
    "# ELSE\n",
    "\n",
    "Es una forma de ejecutar código si la condicion if no se cumple"
   ]
  },
  {
   "cell_type": "code",
   "execution_count": null,
   "metadata": {
    "id": "rP8IMB_UB4x-"
   },
   "outputs": [],
   "source": [
    "clima = input(\"\"\"\n",
    "Como esta el clima?\n",
    "- soleado\n",
    "- lluvioso\n",
    "- nublado\n",
    "\"\"\")\n",
    "\n",
    "if clima == \"soleado\":\n",
    "    print (\"El dia esta soleado, podemos ir al parque🌞🏞️🚶 \")\n",
    "else:\n",
    "    print(\"No conozco ese clima 🤔\")\n"
   ]
  },
  {
   "cell_type": "code",
   "execution_count": null,
   "metadata": {
    "id": "8z89VkmOPCRK"
   },
   "outputs": [],
   "source": [
    "edad = 18\n",
    "\n",
    "if edad >= 18:\n",
    "    print(\"Eres mayor de edad!\")\n",
    "else:\n",
    "    print(\"Todavia eres menor de edad!\")"
   ]
  },
  {
   "cell_type": "markdown",
   "metadata": {
    "id": "L2CybcUDO-7r"
   },
   "source": [
    "# ELIF\n",
    "\n",
    "Con esta condición `elif` agregamos la posibilidad de incluir una condicion si la primera no se cumple."
   ]
  },
  {
   "cell_type": "code",
   "execution_count": null,
   "metadata": {
    "id": "qCDuy1vMB4x_"
   },
   "outputs": [],
   "source": [
    "clima = input(\"\"\"\n",
    "Como esta el clima?\n",
    "- soleado\n",
    "- lluvioso\n",
    "- nublado\n",
    "\"\"\")\n",
    "\n",
    "if clima == \"soleado\":\n",
    "    print (\"El dia esta soleado, podemos ir al parque🌞🏞️🚶 \")\n",
    "elif clima == \"lluvioso\":\n",
    "    print (\"El dia esta lluvioso, mejor nos quedamos en la casa 🏠⛈️\")\n",
    "elif clima == \"nublado\":\n",
    "    print(\"El dia esta nublado, ten cuidado con los rayos ⚡\")\n",
    "else:\n",
    "    print(\"No conozco ese clima 🤔\")\n"
   ]
  },
  {
   "cell_type": "code",
   "execution_count": null,
   "metadata": {
    "id": "PuFOw7jbRf7l"
   },
   "outputs": [],
   "source": [
    "edad = 18\n",
    "\n",
    "if edad >= 18:\n",
    "    print(\"Eres mayor de edad!\")\n",
    "elif edad >= 0:\n",
    "    print(\"Todavia eres menor de edad!\")\n",
    "else:\n",
    "    print(\"Edad inválida!\")"
   ]
  },
  {
   "cell_type": "markdown",
   "metadata": {
    "id": "2MS5eFWQS_UV"
   },
   "source": [
    "# Ejercicios"
   ]
  },
  {
   "cell_type": "markdown",
   "metadata": {
    "id": "8NtefTRkYmoj"
   },
   "source": [
    "Vamos a ver un programa que adivina tu numero:"
   ]
  },
  {
   "cell_type": "code",
   "execution_count": null,
   "metadata": {
    "id": "Xv_9mNmmYlMb"
   },
   "outputs": [
    {
     "name": "stdout",
     "output_type": "stream",
     "text": [
      "El numero ganador era 4\n"
     ]
    }
   ],
   "source": [
    "import random\n",
    "\n",
    "Numero_Adivinado = input('Adivina un numero del 1 al 10 ')\n",
    "Numero_Ganador = random.randint(1, 10)\n",
    "\n",
    "if Numero_Adivinado == str(Numero_Ganador):\n",
    "    print('Feliciadades lo has logrado')\n",
    "elif float(Numero_Adivinado) >= 11:\n",
    "    print('Leistes bien?')\n",
    "else:\n",
    "    print('El numero ganador era {}'.format(Numero_Ganador))\n"
   ]
  },
  {
   "cell_type": "markdown",
   "metadata": {
    "id": "tIpu0504O0pj"
   },
   "source": [
    "# Talleres\n"
   ]
  },
  {
   "cell_type": "markdown",
   "metadata": {
    "id": "Sx1Edje2KFiR"
   },
   "source": [
    "1. Escribe un programa en Python para convertir temperaturas a y desde celsius, fahrenheit.\n",
    "\n",
    "[Fórmula : c/5 = f-32/9 [ donde c = temperatura en celsius y f = temperatura en fahrenheit ]\n",
    "\n",
    "Resultado esperado :\n",
    "60°C es 140 en Fahrenheit\n",
    "45°F es 7 en Celsius\n"
   ]
  },
  {
   "cell_type": "code",
   "execution_count": null,
   "metadata": {},
   "outputs": [],
   "source": []
  },
  {
   "cell_type": "code",
   "execution_count": null,
   "metadata": {
    "id": "cnJ1ZUJvKG5P"
   },
   "outputs": [],
   "source": []
  },
  {
   "cell_type": "markdown",
   "metadata": {
    "id": "V89H0yULSaP-"
   },
   "source": [
    "\n",
    "2. Escribe un programa en Python para calcular la edad de un perro en años de perro\n",
    "Nota: Durante los dos primeros años, un año canino equivale a 10,5 años humanos. Después, cada año canino equivale a 4 años humanos.\n",
    "Resultado esperado:\n",
    "\n",
    "Introduzca la edad de un perro en años humanos: 15                                    \n",
    "La edad del perro en años de perro es 73"
   ]
  },
  {
   "cell_type": "code",
   "execution_count": null,
   "metadata": {
    "id": "8uDdZs0XSbPe"
   },
   "outputs": [],
   "source": []
  },
  {
   "cell_type": "markdown",
   "metadata": {
    "id": "TIbK4XqaSlIO"
   },
   "source": [
    "3. Escribe un programa en Python para comprobar si un alfabeto es una vocal o una consonante\n",
    "Salida esperada:\n",
    "\n",
    "Introduce una letra del alfabeto: k                                       \n",
    "k es una consonante.\n"
   ]
  },
  {
   "cell_type": "code",
   "execution_count": null,
   "metadata": {
    "id": "yTSWvdw-Sm0u"
   },
   "outputs": [],
   "source": []
  },
  {
   "cell_type": "markdown",
   "metadata": {
    "id": "aBc3SqygS5mm"
   },
   "source": [
    "4. Escribe un programa en Python para convertir el nombre del mes en un número de días\n",
    "Salida esperada:\n",
    "\n",
    "Lista de meses: Enero, Febrero, Marzo, Abril, Mayo, Junio, Julio, Agosto\n",
    ", septiembre, octubre, noviembre, diciembre                                \n",
    "Introduzca el nombre del mes: Febrero                                       \n",
    "Número de días: 28/29 días \n"
   ]
  },
  {
   "cell_type": "code",
   "execution_count": null,
   "metadata": {
    "colab": {
     "base_uri": "https://localhost:8080/"
    },
    "id": "Cwsvo7qPS6m2",
    "outputId": "fda032a8-35c8-4e14-c08a-dc5fa2b66ee2"
   },
   "outputs": [
    {
     "name": "stdout",
     "output_type": "stream",
     "text": [
      "List of months: January, February, March, April, May, June, July, August, September, October, November, December\n",
      "Input the name of Month: February\n",
      "No. of days: 28/29 days\n"
     ]
    }
   ],
   "source": []
  },
  {
   "cell_type": "code",
   "execution_count": null,
   "metadata": {},
   "outputs": [],
   "source": []
  }
 ],
 "metadata": {
  "kernelspec": {
   "display_name": "Python 3.10.7 64-bit",
   "language": "python",
   "name": "python3"
  },
  "language_info": {
   "name": "python",
   "version": "3.10.7"
  },
  "orig_nbformat": 4,
  "vscode": {
   "interpreter": {
    "hash": "f0ee762d84ddad7086513e3826a35260320b545ff56322a682f2835eb942653a"
   }
  }
 },
 "nbformat": 4,
 "nbformat_minor": 2
}
