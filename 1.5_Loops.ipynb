{
 "cells": [
  {
   "cell_type": "markdown",
   "metadata": {
    "id": "vXeTYGh8LmQ0"
   },
   "source": [
    "![Data Science Black@300x.png](https://i.imgur.com/KIHm5UF.png)\n",
    "\n",
    "# LOOPS\n",
    "\n",
    "Las computadoras pueden repetir muchas acciones o cálculos muy rápidamente. \n",
    "Un loop es una secuencia de instrucciones de código que se ejecuta repetidas veces, hasta que la condición asignada a dicho bucle deja de cumplirse. \n",
    "#FOR\n",
    "Este tipo de bucle repite un bloque de código un número específico de veces. Usualmente usamos el loop for con listas y cuando sabemos cuántas veces necesitamos repetir un bloque de código\n"
   ]
  },
  {
   "cell_type": "code",
   "execution_count": null,
   "metadata": {
    "colab": {
     "base_uri": "https://localhost:8080/"
    },
    "id": "m8kmAIfILyyC",
    "outputId": "2ec617ee-c22d-4a99-a885-046f8a7a4e0d"
   },
   "outputs": [
    {
     "name": "stdout",
     "output_type": "stream",
     "text": [
      "17\n",
      "18\n",
      "19\n",
      "20\n",
      "21\n",
      "22\n",
      "23\n"
     ]
    }
   ],
   "source": [
    "numeros = [13,14,15,16,17,18,19]\n",
    "for numeros in numeros:\n",
    "  print(numeros + 4)"
   ]
  },
  {
   "cell_type": "markdown",
   "metadata": {
    "id": "Rpb9nE-XM4PV"
   },
   "source": [
    "# ITERATING THROUGH FOR LOOPS\n",
    "\n",
    "si no queremos revisar todos los elementos? ¿Qué pasa si solo queremos iterar, digamos 3 veces? ¿O solo pasa por un rango específico de números? \n",
    "\n",
    "for -iterator- in -group of items-:\n",
    "\n",
    "El -iterator- y el -group of items- son las partes que reemplaza cuando crea su propio bucle for. Entonces, si quisiera iterar 3 veces, en lugar de iterar a través de una lista completa o tupla con elementos en ella, reemplazaríamos el -iterator- y el -group of items-  con lo siguiente\n"
   ]
  },
  {
   "cell_type": "code",
   "execution_count": null,
   "metadata": {
    "colab": {
     "base_uri": "https://localhost:8080/"
    },
    "id": "5Tp4g-PyNaPU",
    "outputId": "3449ee42-66d5-48de-98be-508b97f07297"
   },
   "outputs": [
    {
     "name": "stdout",
     "output_type": "stream",
     "text": [
      "0\n",
      "1\n",
      "2\n",
      "3\n",
      "4\n",
      "5\n",
      "6\n",
      "7\n",
      "8\n",
      "9\n",
      "10\n",
      "11\n",
      "12\n",
      "13\n",
      "14\n",
      "15\n",
      "16\n",
      "17\n",
      "18\n",
      "19\n"
     ]
    }
   ],
   "source": [
    "for i in range(20):\n",
    "  print(i)"
   ]
  },
  {
   "cell_type": "markdown",
   "metadata": {
    "id": "554KMc53PSCP"
   },
   "source": [
    "también puede tomar otro parámetro que sea un punto de partida. Esto nos permite hacer algo similar a dividir listas y tuplas iterando sobre un rango específico de números. Entonces, si quisiéramos saltar directamente al número 10 y luego iterar a través de los números del 20 al 30, usaríamos la función range () de esta manera, usando dos parámetros"
   ]
  },
  {
   "cell_type": "code",
   "execution_count": null,
   "metadata": {
    "colab": {
     "base_uri": "https://localhost:8080/"
    },
    "id": "kBFPjjG9PhRP",
    "outputId": "8d70cb9d-d896-43d0-ab30-dd79a03ea552"
   },
   "outputs": [
    {
     "name": "stdout",
     "output_type": "stream",
     "text": [
      "5\n",
      "6\n",
      "7\n",
      "8\n",
      "9\n",
      "10\n",
      "11\n",
      "12\n",
      "13\n",
      "14\n"
     ]
    }
   ],
   "source": [
    "for i in range(5,15):\n",
    "  print(i)"
   ]
  },
  {
   "cell_type": "code",
   "execution_count": null,
   "metadata": {
    "id": "I5WYxXn3P5dA"
   },
   "outputs": [],
   "source": []
  },
  {
   "cell_type": "markdown",
   "metadata": {
    "id": "naX7b2K5QIwX"
   },
   "source": [
    "se utiliza como el paso o el número de elementos que se deben omitir al iterar. Entonces, si solo quisiéramos imprimir los múltiplos de 10 en los números entre 1 y 100, usaríamos la función range ()"
   ]
  },
  {
   "cell_type": "code",
   "execution_count": null,
   "metadata": {
    "colab": {
     "base_uri": "https://localhost:8080/"
    },
    "id": "8qlpKtwwQKRh",
    "outputId": "a6b7b7c7-27fe-4ad8-9f8b-e9f685e54efb"
   },
   "outputs": [
    {
     "name": "stdout",
     "output_type": "stream",
     "text": [
      "5\n",
      "10\n",
      "15\n",
      "20\n",
      "25\n",
      "30\n",
      "35\n",
      "40\n",
      "45\n"
     ]
    }
   ],
   "source": [
    "for i in range (5,50,5):\n",
    "  print(i)"
   ]
  },
  {
   "cell_type": "markdown",
   "metadata": {
    "id": "8LoyMcfhQiWI"
   },
   "source": [
    "# WHILE\n",
    "\n",
    "Este tipo de bucle también repite un bloque de código una y otra vez, pero seguirá repitiéndose mientras una expresión booleana siga siendo fiel a la computadora.\n",
    "Solemos usar while cuando no sabemos cuántas veces necesitamos repetir un bloque de código. Recuerde que en el loop for, sabemos exactamente la cantidad de veces que debe repetirse un bloque de código.\n"
   ]
  },
  {
   "cell_type": "code",
   "execution_count": null,
   "metadata": {
    "colab": {
     "base_uri": "https://localhost:8080/",
     "height": 520
    },
    "id": "AVP5bT-jQsZk",
    "outputId": "042bdfc2-43a3-4416-f382-9671ffed2d29"
   },
   "outputs": [
    {
     "name": "stdout",
     "output_type": "stream",
     "text": [
      "3\n",
      "4\n",
      "5\n",
      "6\n",
      "7\n",
      "8\n",
      "9\n",
      "10\n",
      "11\n",
      "12\n",
      "13\n",
      "14\n",
      "15\n",
      "16\n",
      "17\n",
      "18\n",
      "19\n"
     ]
    },
    {
     "ename": "KeyboardInterrupt",
     "evalue": "ignored",
     "output_type": "error",
     "traceback": [
      "\u001b[0;31m---------------------------------------------------------------------------\u001b[0m\n",
      "\u001b[0;31mKeyboardInterrupt\u001b[0m                         Traceback (most recent call last)\n",
      "\u001b[0;32m<ipython-input-8-bf8eb2522395>\u001b[0m in \u001b[0;36m<module>\u001b[0;34m()\u001b[0m\n",
      "\u001b[1;32m      1\u001b[0m \u001b[0mnumbers\u001b[0m \u001b[0;34m=\u001b[0m \u001b[0;34m[\u001b[0m\u001b[0;36m1\u001b[0m\u001b[0;34m,\u001b[0m\u001b[0;36m2\u001b[0m\u001b[0;34m,\u001b[0m\u001b[0;36m3\u001b[0m\u001b[0;34m,\u001b[0m\u001b[0;36m4\u001b[0m\u001b[0;34m,\u001b[0m\u001b[0;36m5\u001b[0m\u001b[0;34m,\u001b[0m\u001b[0;36m6\u001b[0m\u001b[0;34m,\u001b[0m\u001b[0;36m7\u001b[0m\u001b[0;34m,\u001b[0m\u001b[0;36m8\u001b[0m\u001b[0;34m,\u001b[0m\u001b[0;36m9\u001b[0m\u001b[0;34m,\u001b[0m\u001b[0;36m10\u001b[0m\u001b[0;34m,\u001b[0m\u001b[0;36m11\u001b[0m\u001b[0;34m,\u001b[0m\u001b[0;36m12\u001b[0m\u001b[0;34m,\u001b[0m\u001b[0;36m13\u001b[0m\u001b[0;34m,\u001b[0m\u001b[0;36m14\u001b[0m\u001b[0;34m,\u001b[0m\u001b[0;36m15\u001b[0m\u001b[0;34m,\u001b[0m\u001b[0;36m16\u001b[0m\u001b[0;34m,\u001b[0m\u001b[0;36m17\u001b[0m\u001b[0;34m,\u001b[0m\u001b[0;36m18\u001b[0m\u001b[0;34m,\u001b[0m\u001b[0;36m19\u001b[0m\u001b[0;34m,\u001b[0m\u001b[0;36m20\u001b[0m\u001b[0;34m]\u001b[0m\u001b[0;34m\u001b[0m\u001b[0;34m\u001b[0m\u001b[0m\n",
      "\u001b[1;32m      2\u001b[0m \u001b[0mi\u001b[0m \u001b[0;34m=\u001b[0m \u001b[0;36m0\u001b[0m\u001b[0;34m\u001b[0m\u001b[0;34m\u001b[0m\u001b[0m\n",
      "\u001b[0;32m----> 3\u001b[0;31m \u001b[0;32mwhile\u001b[0m \u001b[0;34m(\u001b[0m\u001b[0mi\u001b[0m \u001b[0;34m<\u001b[0m \u001b[0mlen\u001b[0m\u001b[0;34m(\u001b[0m\u001b[0mnumbers\u001b[0m\u001b[0;34m)\u001b[0m\u001b[0;34m)\u001b[0m\u001b[0;34m:\u001b[0m\u001b[0;34m\u001b[0m\u001b[0;34m\u001b[0m\u001b[0m\n",
      "\u001b[0m\u001b[1;32m      4\u001b[0m   \u001b[0;32mif\u001b[0m \u001b[0;34m(\u001b[0m\u001b[0mnumbers\u001b[0m\u001b[0;34m[\u001b[0m\u001b[0mi\u001b[0m\u001b[0;34m]\u001b[0m \u001b[0;34m+\u001b[0m \u001b[0;36m2\u001b[0m\u001b[0;34m)\u001b[0m \u001b[0;34m<\u001b[0m \u001b[0;36m20\u001b[0m\u001b[0;34m:\u001b[0m\u001b[0;34m\u001b[0m\u001b[0;34m\u001b[0m\u001b[0m\n",
      "\u001b[1;32m      5\u001b[0m     \u001b[0mprint\u001b[0m\u001b[0;34m(\u001b[0m\u001b[0mnumbers\u001b[0m\u001b[0;34m[\u001b[0m\u001b[0mi\u001b[0m\u001b[0;34m]\u001b[0m \u001b[0;34m+\u001b[0m \u001b[0;36m2\u001b[0m\u001b[0;34m)\u001b[0m\u001b[0;34m\u001b[0m\u001b[0;34m\u001b[0m\u001b[0m\n",
      "\n",
      "\u001b[0;31mKeyboardInterrupt\u001b[0m: "
     ]
    }
   ],
   "source": [
    "numbers = [1,2,3,4,5,6,7,8,9,10,11,12,13,14,15,16,17,18,19,20]\n",
    "i = 0\n",
    "while (i < len(numbers)):\n",
    "  if (numbers[i] + 2) < 20:\n",
    "    print(numbers[i] + 2)\n",
    "    i+=1"
   ]
  },
  {
   "cell_type": "markdown",
   "metadata": {
    "id": "bCZAkO8zUk25"
   },
   "source": [
    "# Talleres\n",
    "\n",
    "1. Escribe un programa en Python para encontrar aquellos números que sean divisibles por 7 y múltiplo de 5, entre 1500 y 2700 (ambos incluidos).\n"
   ]
  },
  {
   "cell_type": "code",
   "execution_count": null,
   "metadata": {
    "executionInfo": {
     "elapsed": 6,
     "status": "ok",
     "timestamp": 1637696410569,
     "user": {
      "displayName": "Faustino Aguilar",
      "photoUrl": "https://lh3.googleusercontent.com/a-/AOh14GgFcVwgoxf7itzyE0hwwpvYLYcPzzON79QhdlKYXg=s64",
      "userId": "09902268434297212750"
     },
     "user_tz": 300
    },
    "id": "Cy6PnZDUJmqe"
   },
   "outputs": [],
   "source": []
  },
  {
   "cell_type": "markdown",
   "metadata": {
    "id": "sUDS2I1MKPIH"
   },
   "source": [
    "2. Escribe un programa en Python para adivinar un número entre 1 y 9.\n",
    "Nota: Se pide al usuario que introduzca un número. Si el usuario se equivoca, el mensaje aparecerá de nuevo hasta que la respuesta sea correcta. Si la respuesta es correcta, el usuario recibirá un mensaje de \"¡Bien adivinado!\" y el programa saldrá."
   ]
  },
  {
   "cell_type": "code",
   "execution_count": null,
   "metadata": {
    "executionInfo": {
     "elapsed": 5,
     "status": "ok",
     "timestamp": 1637696410569,
     "user": {
      "displayName": "Faustino Aguilar",
      "photoUrl": "https://lh3.googleusercontent.com/a-/AOh14GgFcVwgoxf7itzyE0hwwpvYLYcPzzON79QhdlKYXg=s64",
      "userId": "09902268434297212750"
     },
     "user_tz": 300
    },
    "id": "dcm61zgEKRWG"
   },
   "outputs": [],
   "source": []
  },
  {
   "cell_type": "markdown",
   "metadata": {
    "id": "_pol_HYfKW1o"
   },
   "source": [
    "3. Escribe un programa en Python para construir el siguiente patrón, utilizando un bucle for anidado.\n",
    "\n",
    "```\n",
    "* \n",
    "* * \n",
    "* * * \n",
    "* * * * \n",
    "* * * * * \n",
    "* * * * \n",
    "* * * \n",
    "* * \n",
    "*\n",
    "```"
   ]
  },
  {
   "cell_type": "code",
   "execution_count": null,
   "metadata": {
    "executionInfo": {
     "elapsed": 5,
     "status": "ok",
     "timestamp": 1637696410570,
     "user": {
      "displayName": "Faustino Aguilar",
      "photoUrl": "https://lh3.googleusercontent.com/a-/AOh14GgFcVwgoxf7itzyE0hwwpvYLYcPzzON79QhdlKYXg=s64",
      "userId": "09902268434297212750"
     },
     "user_tz": 300
    },
    "id": "4rXPZ_k1KXef"
   },
   "outputs": [],
   "source": []
  },
  {
   "cell_type": "markdown",
   "metadata": {
    "id": "H6VXYy0XKpsw"
   },
   "source": [
    "4. Escribe un programa en Python que cuente el número de números pares e impares de una serie de números.\n",
    "\n",
    "Números de ejemplo : números = (1, 2, 3, 4, 5, 6, 7, 8, 9) \n",
    "Salida esperada :\n",
    "Número de números pares : 5\n",
    "Número de números impares : 4\n"
   ]
  },
  {
   "cell_type": "code",
   "execution_count": null,
   "metadata": {
    "executionInfo": {
     "elapsed": 6,
     "status": "ok",
     "timestamp": 1637696410571,
     "user": {
      "displayName": "Faustino Aguilar",
      "photoUrl": "https://lh3.googleusercontent.com/a-/AOh14GgFcVwgoxf7itzyE0hwwpvYLYcPzzON79QhdlKYXg=s64",
      "userId": "09902268434297212750"
     },
     "user_tz": 300
    },
    "id": "-feSL3MQKrF3"
   },
   "outputs": [],
   "source": []
  },
  {
   "cell_type": "markdown",
   "metadata": {
    "id": "U5kr_M73K4QQ"
   },
   "source": [
    "5. Escribe un programa en Python que imprima cada elemento y su tipo correspondiente de la siguiente lista.\n",
    "\n",
    "Lista de ejemplo : datalist = [1452, 11.23, 1+2j, True, 'abc', (0, -1), [5, 12], {\"class\":'V', \"section\":'A'}]\n"
   ]
  },
  {
   "cell_type": "code",
   "execution_count": null,
   "metadata": {
    "executionInfo": {
     "elapsed": 6,
     "status": "ok",
     "timestamp": 1637696410571,
     "user": {
      "displayName": "Faustino Aguilar",
      "photoUrl": "https://lh3.googleusercontent.com/a-/AOh14GgFcVwgoxf7itzyE0hwwpvYLYcPzzON79QhdlKYXg=s64",
      "userId": "09902268434297212750"
     },
     "user_tz": 300
    },
    "id": "9JJrTDHiKzpf"
   },
   "outputs": [],
   "source": []
  },
  {
   "cell_type": "markdown",
   "metadata": {
    "id": "-VPdDq-oJtuO"
   },
   "source": [
    "6. Escribe un programa en Python que obtenga la serie de Fibonacci entre 0 y 50.\n",
    "Nota : La secuencia de Fibonacci es la serie de números :\n",
    "0, 1, 1, 2, 3, 5, 8, 13, 21, ....\n",
    "\n",
    "Cada número siguiente se encuentra sumando los dos números anteriores.\n",
    "Resultado esperado : 1 1 2 3 5 8 13 21 34\n",
    "\n",
    "Fibonacci es una secuencia matemática que podemos encontrar en la naturaleza:\n",
    "\n",
    "![fibo](https://i.imgur.com/lX0rYKPm.png)\n",
    "\n",
    "![fibo2](https://i.imgur.com/poYtfiam.png)\n"
   ]
  },
  {
   "cell_type": "raw",
   "metadata": {},
   "source": []
  }
 ],
 "metadata": {
  "kernelspec": {
   "display_name": "Python 3.10.7 64-bit",
   "language": "python",
   "name": "python3"
  },
  "language_info": {
   "name": "python",
   "version": "3.10.7"
  },
  "orig_nbformat": 4,
  "vscode": {
   "interpreter": {
    "hash": "f0ee762d84ddad7086513e3826a35260320b545ff56322a682f2835eb942653a"
   }
  }
 },
 "nbformat": 4,
 "nbformat_minor": 2
}
